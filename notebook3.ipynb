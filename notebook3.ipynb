{
 "cells": [
  {
   "cell_type": "code",
   "execution_count": 1,
   "source": [
    "import numpy as np\n",
    "import matplotlib.pyplot as plt\n",
    "import matplotlib\n",
    "import pandas as pd\n",
    "from statsmodels.tsa.stattools import adfuller\n",
    "from Causal_inference import granger_causality,add_causality_dataset, generate_synthetic\n",
    "from time import time\n",
    "import pmdarima as pm\n",
    "from tqdm import tqdm\n",
    "from statsmodels.tsa.arima_model import ARMA\n",
    "from TimeSeries import TimeSeries\n",
    "from copy import deepcopy"
   ],
   "outputs": [],
   "metadata": {}
  },
  {
   "cell_type": "markdown",
   "source": [
    "IMPORTING data"
   ],
   "metadata": {}
  },
  {
   "cell_type": "code",
   "execution_count": 2,
   "source": [
    "import os\n",
    "cwd = os.getcwd()\n",
    "print(cwd)\n",
    "\n",
    "def plot(x):\n",
    "    l = np.arange(x.shape[0])\n",
    "    plt.plot(l, x, c='blue')\n",
    "    plt.show()"
   ],
   "outputs": [
    {
     "output_type": "stream",
     "name": "stdout",
     "text": [
      "/Users/ianyuen/Documents/GitHub/RA_time_series/time_series_ra/RepLearningEngine\n"
     ]
    }
   ],
   "metadata": {}
  },
  {
   "cell_type": "code",
   "execution_count": 3,
   "source": [
    "dataset_names = [\"FaceFour\", \"InlineSkate\", \"PickupGestureWiimoteZ\", \"SemgHandMovementCh2\"]\n",
    "\n",
    "to_import =  [\"mixsd0.1_0.1_causaldb\", \"mixsd0.1_0.05_causaldb\", \"mixsd0.2_0.1_causaldb\", \"mixsd0.2_0.05_causaldb\", \"randomsd0.1_effectdb\", \"randomsd0.2_effectdb\", \"rwalksd0.1_effectdb\", \"rwalksd0.05_effectdb\"]\n",
    "\n",
    "path = cwd +\"/test_files/\""
   ],
   "outputs": [],
   "metadata": {}
  },
  {
   "cell_type": "code",
   "execution_count": 4,
   "source": [
    "dataset_dict = {}\n",
    "\n",
    "for each in dataset_names:\n",
    "    dataset_dict[each] = {}\n",
    "    dataset_dict[each][\"truemat\"] = np.load(str(path+each+\"_split_truemat.npy\"))\n",
    "    # print(dataset_dict[each][\"truemat\"])\n",
    "    dataset_dict[each][\"causaldb\"] = np.load(str(path+ each+\"_causaldb.npy\"))\n",
    "    for import_type in to_import:\n",
    "        dataset_dict[each][import_type] = np.load(str(path+each+\"_\"+import_type+\".npy\"))"
   ],
   "outputs": [],
   "metadata": {}
  },
  {
   "cell_type": "code",
   "execution_count": 5,
   "source": [
    "import sklearn\n",
    "import tigramite\n",
    "from tigramite import data_processing as pp\n",
    "from tigramite import plotting as tp\n",
    "from tigramite.pcmci import PCMCI\n",
    "from tigramite.independence_tests import ParCorr, GPDC, CMIknn, CMIsymb"
   ],
   "outputs": [
    {
     "output_type": "stream",
     "name": "stderr",
     "text": [
      "/Users/ianyuen/Documents/GitHub/RA_time_series/time_series_ra/RepLearningEngine/tigramite/independence_tests/gpdc.py:16: UserWarning: No module named 'dcor'\n",
      "  warnings.warn(str(e))\n",
      "/Users/ianyuen/Documents/GitHub/RA_time_series/time_series_ra/RepLearningEngine/tigramite/independence_tests/gpdc_torch.py:18: UserWarning: No module named 'dcor'\n",
      "  warnings.warn(str(e))\n",
      "/Users/ianyuen/Documents/GitHub/RA_time_series/time_series_ra/RepLearningEngine/tigramite/independence_tests/cmiknn.py:15: UserWarning: cannot import name 'tigramite_cython_code' from 'tigramite' (/Users/ianyuen/Documents/GitHub/RA_time_series/time_series_ra/RepLearningEngine/tigramite/__init__.py)\n",
      "  warnings.warn(str(e))\n"
     ]
    }
   ],
   "metadata": {}
  },
  {
   "cell_type": "code",
   "execution_count": 6,
   "source": [
    "best_gamma = 5\n",
    "neighbor_param =[2, 5, 10, 100]\n",
    "lag = 2\n",
    "pval = 0.05\n",
    "\n",
    "pvals = [0.01, 0.025, 0.05, 0.1]\n",
    "lags = [1, 2]"
   ],
   "outputs": [],
   "metadata": {}
  },
  {
   "cell_type": "code",
   "execution_count": 7,
   "source": [
    "import importlib\n",
    "importlib.reload(tigramite)\n",
    "import json"
   ],
   "outputs": [],
   "metadata": {}
  },
  {
   "cell_type": "code",
   "execution_count": 8,
   "source": [
    "from kNN import kNN, kNN_with_pq_NCC, kNN_with_pq_SINK, MAP, avg_recall_measure\n",
    "from time import time\n",
    "from Causal_inference import check_with_original\n",
    "import Representation"
   ],
   "outputs": [],
   "metadata": {}
  },
  {
   "cell_type": "markdown",
   "source": [
    "first, without Grail"
   ],
   "metadata": {}
  },
  {
   "cell_type": "code",
   "execution_count": null,
   "source": [
    "#package into modular funcions\n",
    "#parallelize, each import_type\n",
    "#each representation\n",
    "#each model used\n",
    "#each alpha_level\n",
    "#each lag -> output"
   ],
   "outputs": [],
   "metadata": {}
  },
  {
   "cell_type": "code",
   "execution_count": 11,
   "source": [
    "for each in dataset_names:\n",
    "    causal = dataset_dict[each][\"causaldb\"]\n",
    "    representation = Representation.GRAIL(kernel=\"SINK\", d = 100, gamma = best_gamma)\n",
    "    trueMat = dataset_dict[each][\"truemat\"]\n",
    "\n",
    "    #parallelism here\n",
    "    for import_type in to_import:\n",
    "        effectdb = dataset_dict[each][import_type]\n",
    "        n1 = causal.shape[0]\n",
    "        n2 = effectdb.shape[0]\n",
    "        TRAIN_TS, TEST_TS = representation.get_rep_train_test(effectdb, causal) #GRAIL\n",
    "\n",
    "        for effects in [\"GRAIL\", \"non-GRAIL\"]:     #with and without GRAIL\n",
    "            if effects == \"GRAIL\":\n",
    "                TRAIN_TS, effect =  representation.get_rep_train_test(effectdb, causal)\n",
    "            else:\n",
    "                effect = effectdb\n",
    "            rep = effects\n",
    "            var_names = np.arange(len(effect))\n",
    "\n",
    "            df = pp.DataFrame(effect.transpose(), datatime = np.arange(len(effect[0])),var_names=var_names)\n",
    "            #loop through PCMI or PCMCI-plus\n",
    "            parcorr = ParCorr(significance='analytic')\n",
    "            pcmci = PCMCI(\n",
    "                dataframe=df, \n",
    "                cond_ind_test=parcorr,\n",
    "                verbosity=0)\n",
    "            pcmci.verbosity = 0\n",
    "            tau_max = 3     #the highest lag to go to\n",
    "            #loop through PCMI or PCMCI-plus\n",
    "            return_time = None\n",
    "            for model_used in [\"PCMCI\", \"PCMCI-plus\"]:\n",
    "                if model_used == \"PCMCI\":\n",
    "                    t = time()\n",
    "                    results = pcmci.run_pcmci(tau_max=tau_max, pc_alpha=None)\n",
    "                    return_time = time() -t\n",
    "                else:\n",
    "                    t = time()\n",
    "                    results = pcmci.run_pcmciplus(tau_min=0, tau_max=tau_max, pc_alpha=None)\n",
    "                    return_time = time() -t\n",
    "\n",
    "                dict_results={}\n",
    "                dict_results[\"p-values\"] = results['p_matrix'].round(3)\n",
    "                dict_results[\"MCI partial correlations\"] = results['val_matrix'].round(3)\n",
    "                #plotting\n",
    "                q_matrix = pcmci.get_corrected_pvalues(p_matrix=results['p_matrix'], tau_max=8, fdr_method='fdr_bh')\n",
    "                dict_results[\"q_matrix\"] = q_matrix.round(3)\n",
    "                #printing significant links\n",
    "                # pcmci.print_significant_links(\n",
    "                #         p_matrix = results['p_matrix'], \n",
    "                #         q_matrix = q_matrix,\n",
    "                #         val_matrix = results['val_matrix'],\n",
    "                #         alpha_level = alpha_level)\n",
    "                effect_name = each + import_type\n",
    "\n",
    "                for alpha_level in pvals:\n",
    "                    link_matrix = pcmci.return_significant_links(pq_matrix=q_matrix,\n",
    "                                val_matrix=results['val_matrix'], alpha_level=alpha_level)['link_matrix']\n",
    "                    dict_results[\"link_matrix\"] = link_matrix\n",
    "                    for lagged in lags:\n",
    "                        compare_matrix = []\n",
    "                        val_matrix = []\n",
    "                        for i in range(len(link_matrix)):\n",
    "                            place_holder_link = []\n",
    "                            place_holder_val = []\n",
    "                            for j in range(len(link_matrix[i])):\n",
    "                                element1 = [link_matrix[i][j][lagged]]\n",
    "                                element2 = [results['val_matrix'][i][j][lagged]]\n",
    "                                place_holder_link.append(element1)\n",
    "                                place_holder_val.append(element2)\n",
    "                            compare_matrix.append(place_holder_link)\n",
    "                            val_matrix.append(place_holder_val)\n",
    "                        compare_matrix = np.array(compare_matrix)\n",
    "                        val_matrix = np.array(val_matrix)\n",
    "                        check_matrix = compare_matrix.reshape((trueMat.shape[0], trueMat.shape[1]))\n",
    "                        check_results = check_with_original(trueMat, check_matrix) #[prec, rec, F1]\n",
    "                        dict_results[\"precision\"] = check_results[0]\n",
    "                        dict_results[\"recall\"] = check_results[1]\n",
    "                        dict_results[\"f-score\"] = check_results[2]\n",
    "                        \n",
    "                        tp.plot_graph(\n",
    "                            val_matrix=val_matrix,\n",
    "                            link_matrix=compare_matrix,\n",
    "                            var_names=var_names,\n",
    "                            figsize=(40, 40),\n",
    "                            link_colorbar_label='cross-MCI (edges)',\n",
    "                            node_colorbar_label='auto-MCI (nodes)',\n",
    "                            )\n",
    "                        plt.savefig(f\"{cwd}/model_results/{effect_name}_P{alpha_level}_L{lagged}_{rep}_process_graph.png\")\n",
    "                        plt.clf()\n",
    "                        plt.close()\n",
    "                        tp.plot_time_series_graph(\n",
    "                            figsize=(200, 200),\n",
    "                            node_size=0.003,\n",
    "                            val_matrix=val_matrix,\n",
    "                            link_matrix=compare_matrix,\n",
    "                            var_names=var_names,\n",
    "                            link_colorbar_label='MCI',\n",
    "                            )\n",
    "                        plt.savefig(f\"{cwd}/model_results/{effect_name}_P{alpha_level}_L{lagged}_{rep}_time_series_graph.png\")\n",
    "                        plt.clf()\n",
    "                        plt.close()\n",
    "\n",
    "                        #outputing and saving\n",
    "                        with open(f'{cwd}/model_results/{effect_name}_P{alpha_level}_L{lagged}_{rep}_val_matrices_PCMCI.npy', 'wb') as f:\n",
    "                            np.save(f, val_matrix)\n",
    "\n",
    "                        with open(f'{cwd}/model_results/{effect_name}_P{alpha_level}_L{lagged}_{rep}_link_matrices.npy', 'wb') as f:\n",
    "                            np.save(f, compare_matrix)\n",
    "\n",
    "                        with open(f'{cwd}/model_results/{effect_name}_P{alpha_level}_L{lagged}_{rep}_pval_matrices.npy', 'wb') as f:\n",
    "                            np.save(f, results['p_matrix'])\n",
    "\n",
    "                        results_dict = {}\n",
    "                        results_dict[\"data_examined\"] = each\n",
    "                        results_dict[\"effect_used\"] = import_type\n",
    "                        results_dict[\"alpha-level\"] = alpha_level\n",
    "                        results_dict[\"lag value\"] = lagged\n",
    "                        results_dict[\"representation used\"] = rep\n",
    "                        results_dict[\"precision\"]= dict_results[\"precision\"]\n",
    "                        results_dict[\"recall\"]= dict_results[\"recall\"]\n",
    "                        results_dict[\"f-score\"]= dict_results[\"f-score\"]\n",
    "                        results_dict[\"return_time\"] = return_time\n",
    "                        with open(f'{cwd}/model_results/{effect_name}_P{alpha_level}_L{lagged}_{rep}_compared_stats.json', 'w') as f:\n",
    "                            json.dump(results_dict, f)\n"
   ],
   "outputs": [
    {
     "output_type": "stream",
     "name": "stderr",
     "text": [
      "/Users/ianyuen/Documents/GitHub/RA_time_series/time_series_ra/RepLearningEngine/tigramite/plotting.py:2215: RuntimeWarning: invalid value encountered in double_scalars\n",
      "  ((i % max_lag) - posarray.min(axis=0)[0])\n"
     ]
    }
   ],
   "metadata": {}
  },
  {
   "cell_type": "code",
   "execution_count": 12,
   "source": [
    "print(dict_results[\"f-score\"])\n",
    "print(lagged)\n",
    "print(str(return_time))\n",
    "# print(\"true: \")\n",
    "# print(trueMat.shape)\n",
    "# print(trueMat.shape[0])\n",
    "# print(\"result: \")\n",
    "# print(len(compare_matrix[0]))\n",
    "# print(len(compare_matrix))\n",
    "# compare_matrix = compare_matrix.reshape((len(compare_matrix), len(compare_matrix[0])))\n",
    "# print(compare_matrix.shape)"
   ],
   "outputs": [
    {
     "output_type": "stream",
     "name": "stdout",
     "text": [
      "0.6966292134831461\n",
      "1\n",
      "9476.000649929047\n"
     ]
    }
   ],
   "metadata": {}
  },
  {
   "cell_type": "code",
   "execution_count": 9,
   "source": [
    "\n",
    "for each in dataset_names:\n",
    "    causal = dataset_dict[each][\"causaldb\"]\n",
    "    representation = Representation.GRAIL(kernel=\"SINK\", d = 100, gamma = best_gamma)\n",
    "    trueMat = dataset_dict[each][\"truemat\"]\n",
    "\n",
    "    for import_type in to_import:\n",
    "        effectdb = dataset_dict[each][import_type]\n",
    "        n1 = causal.shape[0]\n",
    "        n2 = effectdb.shape[0]\n",
    "        TRAIN_TS, TEST_TS = representation.get_rep_train_test(effectdb, causal) #GRAIL\n",
    "\n",
    "        counter = 0\n",
    "        for effect in [effectdb, TRAIN_TS]:     #with and without GRAIL\n",
    "            var_names = np.arange(len(effect))\n",
    "\n",
    "            df = pp.DataFrame(effect.transpose(), datatime = np.arange(len(effect[0])),var_names=var_names)\n",
    "            t = time()\n",
    "            parcorr = ParCorr(significance='analytic')\n",
    "            pcmci = PCMCI(\n",
    "                dataframe=df, \n",
    "                cond_ind_test=parcorr,\n",
    "                verbosity=0)\n",
    "            pcmci.verbosity = 0\n",
    "            results = pcmci.run_pcmci(tau_max=8, pc_alpha=None)\n",
    "            return_time = time() -t\n",
    "\n",
    "            dict_results={}\n",
    "            dict_results[\"p-values\"] = results['p_matrix'].round(3)\n",
    "            dict_results[\"MCI partial correlations\"] = results['val_matrix'].round(3)\n",
    "            #plotting\n",
    "            q_matrix = pcmci.get_corrected_pvalues(p_matrix=results['p_matrix'], tau_max=8, fdr_method='fdr_bh')\n",
    "            dict_results[\"q_matrix\"] = q_matrix.round(3)\n",
    "            #printing significant links\n",
    "            # pcmci.print_significant_links(\n",
    "            #         p_matrix = results['p_matrix'], \n",
    "            #         q_matrix = q_matrix,\n",
    "            #         val_matrix = results['val_matrix'],\n",
    "            #         alpha_level = alpha_level)\n",
    "            effect_name = each + import_type\n",
    "\n",
    "            if counter == 0:\n",
    "                rep = \"G\"\n",
    "            else:\n",
    "                rep = \"NG\"\n",
    "            for alpha_level in pvals:\n",
    "                link_matrix = pcmci.return_significant_links(pq_matrix=q_matrix,\n",
    "                            val_matrix=results['val_matrix'], alpha_level=alpha_level)['link_matrix']\n",
    "                dict_results[\"link_matrix\"] = link_matrix\n",
    "                for lagged in lags:\n",
    "                    compare_matrix = []\n",
    "                    val_matrix = []\n",
    "                    for i in range(len(link_matrix)):\n",
    "                        place_holder_link = []\n",
    "                        place_holder_val = []\n",
    "                        for j in range(len(link_matrix[i])):\n",
    "                            element1 = [link_matrix[i][j][lagged]]\n",
    "                            element2 = [results['val_matrix'][i][j][lagged]]\n",
    "                            place_holder_link.append(element1)\n",
    "                            place_holder_val.append(element2)\n",
    "                        compare_matrix.append(place_holder_link)\n",
    "                        val_matrix.append(place_holder_val)\n",
    "                    compare_matrix = np.array(compare_matrix)\n",
    "                    val_matrix = np.array(val_matrix)\n",
    "                    check_results = check_with_original(trueMat, compare_matrix) #[prec, rec, F1]\n",
    "                    # dict_results[\"precision\"] = check_results[0]\n",
    "                    # dict_results[\"recall\"] = check_results[1]\n",
    "                    # dict_results[\"f-score\"] = check_results[2]\n",
    "                    \n",
    "                    tp.plot_graph(\n",
    "                        val_matrix=val_matrix,\n",
    "                        link_matrix=compare_matrix,\n",
    "                        var_names=var_names,\n",
    "                        figsize=(40, 40),\n",
    "                        link_colorbar_label='cross-MCI (edges)',\n",
    "                        node_colorbar_label='auto-MCI (nodes)',\n",
    "                        )\n",
    "                    plt.savefig(f\"{effect_name}_P{alpha_level}_L{lagged}_process_graph.png\")\n",
    "                    plt.clf()\n",
    "                    plt.close()\n",
    "                    tp.plot_time_series_graph(\n",
    "                        figsize=(200, 200),\n",
    "                        node_size=0.003,\n",
    "                        val_matrix=val_matrix,\n",
    "                        link_matrix=compare_matrix,\n",
    "                        var_names=var_names,\n",
    "                        link_colorbar_label='MCI',\n",
    "                        )\n",
    "                    plt.savefig(f\"{effect_name}_P{alpha_level}_L{lagged}_{rep}_time_series_graph.png\")\n",
    "                    plt.clf()\n",
    "                    plt.close()\n",
    "\n",
    "                    #outputing and saving\n",
    "                    with open(f'{effect_name}_P{alpha_level}_L{lagged}_{rep}_val_matrices_PCMCI.npy', 'wb') as f:\n",
    "                        np.save(f, val_matrix)\n",
    "\n",
    "                    with open(f'{effect_name}_P{alpha_level}_L{lagged}_{rep}_link_matrices.npy', 'wb') as f:\n",
    "                        np.save(f, compare_matrix)\n",
    "\n",
    "                    with open(f'{effect_name}_P{alpha_level}_L{lagged}_{rep}_pval_matrices.npy', 'wb') as f:\n",
    "                        np.save(f, results['p_matrix'])\n",
    "\n",
    "                    with open(f'{effect_name}_P{alpha_level}_L{lagged}_{rep}_compared_stats.npy', 'w') as f:\n",
    "                        f.write(\"precision: \")\n",
    "                        f.write(dict_results[\"precision\"])\n",
    "                        f.write(\"\\n\")\n",
    "                        f.write(\"recall: \")\n",
    "                        f.write(dict_results[\"recall\"])\n",
    "                        f.write(\"\\n\")\n",
    "                        f.write(\"f-score: \")\n",
    "                        f.write(dict_results[\"f-score\"])\n",
    "                        f.write(\"\\n\")\n",
    "                        f.write(\"time: \")\n",
    "                        f.write(return_time)\n",
    "                        f.write(\"\\n\")\n",
    "            counter += 1\n",
    "        counter = 0"
   ],
   "outputs": [
    {
     "output_type": "stream",
     "name": "stderr",
     "text": [
      "/Users/ianyuen/opt/anaconda3/lib/python3.8/site-packages/scipy/stats/stats.py:2500: RuntimeWarning: invalid value encountered in true_divide\n",
      "  return (a - mns) / sstd\n",
      "/Users/ianyuen/Documents/GitHub/RA_time_series/time_series_ra/RepLearningEngine/SINK.py:46: RuntimeWarning: invalid value encountered in true_divide\n",
      "  result = np.divide(np.real(r), (np.linalg.norm(x) * np.linalg.norm(y)))\n"
     ]
    },
    {
     "output_type": "error",
     "ename": "AssertionError",
     "evalue": "",
     "traceback": [
      "\u001b[0;31m---------------------------------------------------------------------------\u001b[0m",
      "\u001b[0;31mAssertionError\u001b[0m                            Traceback (most recent call last)",
      "\u001b[0;32m<ipython-input-9-8ba99372f2c9>\u001b[0m in \u001b[0;36m<module>\u001b[0;34m\u001b[0m\n\u001b[1;32m     62\u001b[0m                     \u001b[0mcompare_matrix\u001b[0m \u001b[0;34m=\u001b[0m \u001b[0mnp\u001b[0m\u001b[0;34m.\u001b[0m\u001b[0marray\u001b[0m\u001b[0;34m(\u001b[0m\u001b[0mcompare_matrix\u001b[0m\u001b[0;34m)\u001b[0m\u001b[0;34m\u001b[0m\u001b[0;34m\u001b[0m\u001b[0m\n\u001b[1;32m     63\u001b[0m                     \u001b[0mval_matrix\u001b[0m \u001b[0;34m=\u001b[0m \u001b[0mnp\u001b[0m\u001b[0;34m.\u001b[0m\u001b[0marray\u001b[0m\u001b[0;34m(\u001b[0m\u001b[0mval_matrix\u001b[0m\u001b[0;34m)\u001b[0m\u001b[0;34m\u001b[0m\u001b[0;34m\u001b[0m\u001b[0m\n\u001b[0;32m---> 64\u001b[0;31m                     \u001b[0mcheck_results\u001b[0m \u001b[0;34m=\u001b[0m \u001b[0mcheck_with_original\u001b[0m\u001b[0;34m(\u001b[0m\u001b[0mtrueMat\u001b[0m\u001b[0;34m,\u001b[0m \u001b[0mcompare_matrix\u001b[0m\u001b[0;34m)\u001b[0m \u001b[0;31m#[prec, rec, F1]\u001b[0m\u001b[0;34m\u001b[0m\u001b[0;34m\u001b[0m\u001b[0m\n\u001b[0m\u001b[1;32m     65\u001b[0m                     \u001b[0;31m# dict_results[\"precision\"] = check_results[0]\u001b[0m\u001b[0;34m\u001b[0m\u001b[0;34m\u001b[0m\u001b[0;34m\u001b[0m\u001b[0m\n\u001b[1;32m     66\u001b[0m                     \u001b[0;31m# dict_results[\"recall\"] = check_results[1]\u001b[0m\u001b[0;34m\u001b[0m\u001b[0;34m\u001b[0m\u001b[0;34m\u001b[0m\u001b[0m\n",
      "\u001b[0;32m~/Documents/GitHub/RA_time_series/time_series_ra/RepLearningEngine/Causal_inference.py\u001b[0m in \u001b[0;36mcheck_with_original\u001b[0;34m(trueAdjMat, adjMat)\u001b[0m\n\u001b[1;32m    198\u001b[0m     \u001b[0;34m:\u001b[0m\u001b[0;32mreturn\u001b[0m\u001b[0;34m:\u001b[0m \u001b[0mprecision\u001b[0m\u001b[0;34m,\u001b[0m\u001b[0mrecall\u001b[0m \u001b[0;32mand\u001b[0m \u001b[0mf\u001b[0m\u001b[0;34m-\u001b[0m\u001b[0mscore\u001b[0m\u001b[0;34m\u001b[0m\u001b[0;34m\u001b[0m\u001b[0m\n\u001b[1;32m    199\u001b[0m     \"\"\"\n\u001b[0;32m--> 200\u001b[0;31m     \u001b[0;32massert\u001b[0m \u001b[0madjMat\u001b[0m\u001b[0;34m.\u001b[0m\u001b[0mshape\u001b[0m \u001b[0;34m==\u001b[0m \u001b[0mtrueAdjMat\u001b[0m\u001b[0;34m.\u001b[0m\u001b[0mshape\u001b[0m\u001b[0;34m\u001b[0m\u001b[0;34m\u001b[0m\u001b[0m\n\u001b[0m\u001b[1;32m    201\u001b[0m     \u001b[0mTP\u001b[0m \u001b[0;34m=\u001b[0m \u001b[0;36m0\u001b[0m\u001b[0;34m\u001b[0m\u001b[0;34m\u001b[0m\u001b[0m\n\u001b[1;32m    202\u001b[0m     \u001b[0mFP\u001b[0m \u001b[0;34m=\u001b[0m \u001b[0;36m0\u001b[0m\u001b[0;34m\u001b[0m\u001b[0;34m\u001b[0m\u001b[0m\n",
      "\u001b[0;31mAssertionError\u001b[0m: "
     ]
    }
   ],
   "metadata": {}
  }
 ],
 "metadata": {
  "orig_nbformat": 4,
  "language_info": {
   "name": "python",
   "version": "3.8.3",
   "mimetype": "text/x-python",
   "codemirror_mode": {
    "name": "ipython",
    "version": 3
   },
   "pygments_lexer": "ipython3",
   "nbconvert_exporter": "python",
   "file_extension": ".py"
  },
  "kernelspec": {
   "name": "python3",
   "display_name": "Python 3.8.3 64-bit ('base': conda)"
  },
  "interpreter": {
   "hash": "184e4894e1413e250ad3380da453a1dd559a28a0a344a6060ba0fc8fdc0cdd2f"
  }
 },
 "nbformat": 4,
 "nbformat_minor": 2
}